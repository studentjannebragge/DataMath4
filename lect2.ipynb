{
 "cells": [
  {
   "cell_type": "markdown",
   "metadata": {},
   "source": [
    "### Luento 2"
   ]
  },
  {
   "cell_type": "code",
   "execution_count": 1,
   "metadata": {},
   "outputs": [],
   "source": [
    "import math"
   ]
  },
  {
   "cell_type": "markdown",
   "metadata": {},
   "source": [
    "tehtävä 1"
   ]
  },
  {
   "cell_type": "code",
   "execution_count": 2,
   "metadata": {},
   "outputs": [
    {
     "name": "stdout",
     "output_type": "stream",
     "text": [
      "Iteraatio 1: Väli = [0.000000, 3.000000], Keskipiste = 1.500000, f(c) = 0.375000\n",
      "Iteraatio 2: Väli = [0.000000, 1.500000], Keskipiste = 0.750000, f(c) = -2.578125\n",
      "Iteraatio 3: Väli = [0.750000, 1.500000], Keskipiste = 1.125000, f(c) = -1.576172\n",
      "Iteraatio 4: Väli = [1.125000, 1.500000], Keskipiste = 1.312500, f(c) = -0.739014\n",
      "Iteraatio 5: Väli = [1.312500, 1.500000], Keskipiste = 1.406250, f(c) = -0.219086\n",
      "Iteraatio 6: Väli = [1.406250, 1.500000], Keskipiste = 1.453125, f(c) = 0.068378\n",
      "Iteraatio 7: Väli = [1.406250, 1.453125], Keskipiste = 1.429688, f(c) = -0.077710\n",
      "Iteraatio 8: Väli = [1.429688, 1.453125], Keskipiste = 1.441406, f(c) = -0.005259\n",
      "Iteraatio 9: Väli = [1.441406, 1.453125], Keskipiste = 1.447266, f(c) = 0.031410\n",
      "Iteraatio 10: Väli = [1.441406, 1.447266], Keskipiste = 1.444336, f(c) = 0.013038\n",
      "Iteraatio 11: Väli = [1.441406, 1.444336], Keskipiste = 1.442871, f(c) = 0.003880\n",
      "\n",
      "Tarkkuus saavutettu iteraatiossa 11.\n",
      "\n",
      "Löydetty nollakohta: 1.44\n"
     ]
    }
   ],
   "source": [
    "def bisection_method(func, a, b, max_iterations, tolerance):\n",
    "    \"\"\"\n",
    "    Puolitusmenetelmän toteutus nollakohdan etsintään.\n",
    "\n",
    "    :param func: Funktio, jonka nollakohtaa etsitään\n",
    "    :param a: Välin alkupiste\n",
    "    :param b: Välin loppupiste\n",
    "    :param max_iterations: Suurin sallittu iterointien määrä\n",
    "    :param tolerance: Haluttu tarkkuus nollakohdalle\n",
    "    :return: Nollakohta ja sen arvo funktiossa\n",
    "    \"\"\"\n",
    "    if func(a) * func(b) >= 0:\n",
    "        raise ValueError(\"Funktiolla ei ole nollakohtaa annetulla välillä tai on useita nollakohtia.\")\n",
    "\n",
    "    for iteration in range(max_iterations):\n",
    "        c = (a + b) / 2\n",
    "        print(f\"Iteraatio {iteration + 1}: Väli = [{a:.6f}, {b:.6f}], Keskipiste = {c:.6f}, f(c) = {func(c):.6f}\")\n",
    "\n",
    "        if abs(func(c)) < tolerance:  # Tarkista, onko tarkkuus saavutettu\n",
    "            print(f\"\\nTarkkuus saavutettu iteraatiossa {iteration + 1}.\")\n",
    "            return c\n",
    "        \n",
    "        if func(a) * func(c) < 0:\n",
    "            b = c\n",
    "        else:\n",
    "            a = c\n",
    "    \n",
    "    print(\"\\nMaksimi-iterointimäärä saavutettu.\")\n",
    "    return (a + b) / 2\n",
    "\n",
    "# Esimerkki: Määritellään funktio\n",
    "def f(x):\n",
    "    return x**3 - 3\n",
    "\n",
    "# Käyttäjän määrittämät parametrit\n",
    "a = 0  # Välin alku\n",
    "b = 3  # Välin loppu\n",
    "max_iterations = 20  # Iteraatioiden enimmäismäärä\n",
    "tolerance = 0.005  # Tarkkuus kahden desimaalin tarkkuudella\n",
    "\n",
    "# Lasketaan nollakohta\n",
    "root = bisection_method(f, a, b, max_iterations, tolerance)\n",
    "print(f\"\\nLöydetty nollakohta: {root:.2f}\")\n"
   ]
  },
  {
   "cell_type": "code",
   "execution_count": 3,
   "metadata": {},
   "outputs": [
    {
     "name": "stdout",
     "output_type": "stream",
     "text": [
      "Iteraatio 1: Väli = [0.100000, 1.000000], Keskipiste = 0.550000, f(c) = -0.047837\n",
      "Iteraatio 2: Väli = [0.550000, 1.000000], Keskipiste = 0.775000, f(c) = 0.520108\n",
      "Iteraatio 3: Väli = [0.550000, 0.775000], Keskipiste = 0.662500, f(c) = 0.250765\n",
      "Iteraatio 4: Väli = [0.550000, 0.662500], Keskipiste = 0.606250, f(c) = 0.105787\n",
      "Iteraatio 5: Väli = [0.550000, 0.606250], Keskipiste = 0.578125, f(c) = 0.030160\n",
      "Iteraatio 6: Väli = [0.550000, 0.578125], Keskipiste = 0.564063, f(c) = -0.008528\n",
      "Iteraatio 7: Väli = [0.564063, 0.578125], Keskipiste = 0.571094, f(c) = 0.010892\n",
      "Iteraatio 8: Väli = [0.564063, 0.571094], Keskipiste = 0.567578, f(c) = 0.001201\n",
      "\n",
      "Tarkkuus saavutettu iteraatiossa 8.\n",
      "\n",
      "Löydetty nollakohta: 0.57\n"
     ]
    }
   ],
   "source": [
    "def bisection_method(func, a, b, max_iterations, tolerance):\n",
    "    \"\"\"\n",
    "    Puolitusmenetelmän toteutus nollakohdan etsintään.\n",
    "\n",
    "    :param func: Funktio, jonka nollakohtaa etsitään\n",
    "    :param a: Välin alkupiste\n",
    "    :param b: Välin loppupiste\n",
    "    :param max_iterations: Suurin sallittu iterointien määrä\n",
    "    :param tolerance: Haluttu tarkkuus nollakohdalle\n",
    "    :return: Nollakohta ja sen arvo funktiossa\n",
    "    \"\"\"\n",
    "    if func(a) * func(b) >= 0:\n",
    "        raise ValueError(\"Funktiolla ei ole nollakohtaa annetulla välillä tai on useita nollakohtia.\")\n",
    "\n",
    "    for iteration in range(max_iterations):\n",
    "        c = (a + b) / 2\n",
    "        print(f\"Iteraatio {iteration + 1}: Väli = [{a:.6f}, {b:.6f}], Keskipiste = {c:.6f}, f(c) = {func(c):.6f}\")\n",
    "\n",
    "        if abs(func(c)) < tolerance:  # Tarkista, onko tarkkuus saavutettu\n",
    "            print(f\"\\nTarkkuus saavutettu iteraatiossa {iteration + 1}.\")\n",
    "            return c\n",
    "        \n",
    "        if func(a) * func(c) < 0:\n",
    "            b = c\n",
    "        else:\n",
    "            a = c\n",
    "    \n",
    "    print(\"\\nMaksimi-iterointimäärä saavutettu.\")\n",
    "    return (a + b) / 2\n",
    "\n",
    "# Esimerkki: Määritellään funktio\n",
    "def f(x):\n",
    "    return math.log(x) + x\n",
    "\n",
    "# Käyttäjän määrittämät parametrit\n",
    "a = 1/10  # Välin alku\n",
    "b = 1  # Välin loppu\n",
    "max_iterations = 20  # Iteraatioiden enimmäismäärä\n",
    "tolerance = 0.005  # haluttu tarkkuus\n",
    "\n",
    "# Lasketaan nollakohta\n",
    "root = bisection_method(f, a, b, max_iterations, tolerance)\n",
    "print(f\"\\nLöydetty nollakohta: {root:.2f}\")"
   ]
  },
  {
   "cell_type": "code",
   "execution_count": 9,
   "metadata": {},
   "outputs": [
    {
     "name": "stdout",
     "output_type": "stream",
     "text": [
      "Iteraatio 1: Väli = [0.000000, 1.000000], Keskipiste = 0.500000, f(c) = -0.278801\n",
      "Iteraatio 2: Väli = [0.500000, 1.000000], Keskipiste = 0.750000, f(c) = 0.180217\n",
      "Iteraatio 3: Väli = [0.500000, 0.750000], Keskipiste = 0.625000, f(c) = -0.051634\n",
      "Iteraatio 4: Väli = [0.625000, 0.750000], Keskipiste = 0.687500, f(c) = 0.064156\n",
      "Iteraatio 5: Väli = [0.625000, 0.687500], Keskipiste = 0.656250, f(c) = 0.006173\n",
      "Iteraatio 6: Väli = [0.625000, 0.656250], Keskipiste = 0.640625, f(c) = -0.022760\n",
      "Iteraatio 7: Väli = [0.640625, 0.656250], Keskipiste = 0.648438, f(c) = -0.008300\n",
      "Iteraatio 8: Väli = [0.648438, 0.656250], Keskipiste = 0.652344, f(c) = -0.001065\n",
      "\n",
      "Tarkkuus saavutettu iteraatiossa 8.\n",
      "\n",
      "Löydetty nollakohta: 0.65\n"
     ]
    }
   ],
   "source": [
    "def bisection_method(func, a, b, max_iterations, tolerance):\n",
    "    \"\"\"\n",
    "    Puolitusmenetelmän toteutus nollakohdan etsintään.\n",
    "\n",
    "    :param func: Funktio, jonka nollakohtaa etsitään\n",
    "    :param a: Välin alkupiste\n",
    "    :param b: Välin loppupiste\n",
    "    :param max_iterations: Suurin sallittu iterointien määrä\n",
    "    :param tolerance: Haluttu tarkkuus nollakohdalle\n",
    "    :return: Nollakohta ja sen arvo funktiossa\n",
    "    \"\"\"\n",
    "    if func(a) * func(b) >= 0:\n",
    "        raise ValueError(\"Funktiolla ei ole nollakohtaa annetulla välillä tai on useita nollakohtia.\")\n",
    "\n",
    "    for iteration in range(max_iterations):\n",
    "        c = (a + b) / 2\n",
    "        print(f\"Iteraatio {iteration + 1}: Väli = [{a:.6f}, {b:.6f}], Keskipiste = {c:.6f}, f(c) = {func(c):.6f}\")\n",
    "\n",
    "        if abs(func(c)) < tolerance:  # Tarkista, onko tarkkuus saavutettu\n",
    "            print(f\"\\nTarkkuus saavutettu iteraatiossa {iteration + 1}.\")\n",
    "            return c\n",
    "        \n",
    "        if func(a) * func(c) < 0:\n",
    "            b = c\n",
    "        else:\n",
    "            a = c\n",
    "    \n",
    "    print(\"\\nMaksimi-iterointimäärä saavutettu.\")\n",
    "    return (a + b) / 2\n",
    "\n",
    "# Esimerkki: Määritellään funktio\n",
    "def f(x):\n",
    "    return x - math.exp(-x**2)\n",
    "\n",
    "# Käyttäjän määrittämät parametrit\n",
    "a = 0  # Välin alku\n",
    "b = 1  # Välin loppu\n",
    "max_iterations = 20  # Iteraatioiden enimmäismäärä\n",
    "tolerance = 0.005  # haluttu tarkkuus\n",
    "\n",
    "# Lasketaan nollakohta\n",
    "root = bisection_method(f, a, b, max_iterations, tolerance)\n",
    "print(f\"\\nLöydetty nollakohta: {root:.2f}\")"
   ]
  },
  {
   "cell_type": "markdown",
   "metadata": {},
   "source": [
    "Tehtävä 2"
   ]
  },
  {
   "cell_type": "code",
   "execution_count": 5,
   "metadata": {},
   "outputs": [
    {
     "name": "stdout",
     "output_type": "stream",
     "text": [
      "Iteration 1: x_n = 1.500000, x_n+1 = 1.357209, |x_n+1 - x_n| = 0.142791\n",
      "Iteration 2: x_n = 1.357209, x_n+1 = 1.330861, |x_n+1 - x_n| = 0.026348\n",
      "Iteration 3: x_n = 1.330861, x_n+1 = 1.325884, |x_n+1 - x_n| = 0.004977\n",
      "Iteration 4: x_n = 1.325884, x_n+1 = 1.324939, |x_n+1 - x_n| = 0.000944\n",
      "Iteration 5: x_n = 1.324939, x_n+1 = 1.324760, |x_n+1 - x_n| = 0.000179\n",
      "Iteration 6: x_n = 1.324760, x_n+1 = 1.324726, |x_n+1 - x_n| = 0.000034\n",
      "Iteration 7: x_n = 1.324726, x_n+1 = 1.324719, |x_n+1 - x_n| = 0.000006\n",
      "Iteration 8: x_n = 1.324719, x_n+1 = 1.324718, |x_n+1 - x_n| = 0.000001\n",
      "Iteration 9: x_n = 1.324718, x_n+1 = 1.324718, |x_n+1 - x_n| = 0.000000\n",
      "Converged to 1.324718 after 9 iterations.\n"
     ]
    }
   ],
   "source": [
    "# Fixed-point iteration function to solve x^3 - x - 1 = 0\n",
    "def g(x):\n",
    "    return (x + 1)**(1/3)\n",
    "\n",
    "# Parameters\n",
    "x0 = 1.5  # Initial guess\n",
    "tolerance = 1e-6  # Tolerance for convergence\n",
    "max_iterations = 100  # Maximum number of iterations\n",
    "\n",
    "# Perform fixed-point iteration\n",
    "x_current = x0\n",
    "for i in range(max_iterations):\n",
    "    x_next = g(x_current)\n",
    "    print(f\"Iteration {i + 1}: x_n = {x_current:.6f}, x_n+1 = {x_next:.6f}, |x_n+1 - x_n| = {abs(x_next - x_current):.6f}\")\n",
    "    if abs(x_next - x_current) < tolerance:\n",
    "        print(f\"Converged to {x_next:.6f} after {i + 1} iterations.\")\n",
    "        break\n",
    "    x_current = x_next\n",
    "else:\n",
    "    print(\"Failed to converge within the maximum number of iterations.\")\n"
   ]
  },
  {
   "cell_type": "code",
   "execution_count": 6,
   "metadata": {},
   "outputs": [
    {
     "name": "stdout",
     "output_type": "stream",
     "text": [
      "Iteraatio 1: x_n = 1.500000, x_n+1 = 1.357209, |x_n+1 - x_n| = 0.142791\n",
      "Iteraatio 2: x_n = 1.357209, x_n+1 = 1.330861, |x_n+1 - x_n| = 0.026348\n",
      "Iteraatio 3: x_n = 1.330861, x_n+1 = 1.325884, |x_n+1 - x_n| = 0.004977\n",
      "Iteraatio 4: x_n = 1.325884, x_n+1 = 1.324939, |x_n+1 - x_n| = 0.000944\n",
      "Iteraatio 5: x_n = 1.324939, x_n+1 = 1.324760, |x_n+1 - x_n| = 0.000179\n",
      "Iteraatio 6: x_n = 1.324760, x_n+1 = 1.324726, |x_n+1 - x_n| = 0.000034\n",
      "Iteraatio 7: x_n = 1.324726, x_n+1 = 1.324719, |x_n+1 - x_n| = 0.000006\n",
      "Iteraatio 8: x_n = 1.324719, x_n+1 = 1.324718, |x_n+1 - x_n| = 0.000001\n",
      "Iteraatio 9: x_n = 1.324718, x_n+1 = 1.324718, |x_n+1 - x_n| = 0.000000\n",
      "Konvergoitui arvoon 1.324718 9 iteroinnin jälkeen.\n"
     ]
    }
   ],
   "source": [
    "# Kiintopistemenetelma funktiolle x^3 - x - 1 = 0\n",
    "def g(x):\n",
    "    return (x + 1)**(1/3)\n",
    "\n",
    "# Parametrit\n",
    "x0 = 1.5  # Alkuarvaus\n",
    "toleranssi = 1e-6  # Kriteeri konvergenssille\n",
    "maksimi_iteraatiot = 100  # Iteraatioiden enimmäismäärä\n",
    "\n",
    "# Suoritetaan kiintopistemenetelma\n",
    "x_nykyinen = x0\n",
    "for i in range(maksimi_iteraatiot):\n",
    "    x_seuraava = g(x_nykyinen)\n",
    "    print(f\"Iteraatio {i + 1}: x_n = {x_nykyinen:.6f}, x_n+1 = {x_seuraava:.6f}, |x_n+1 - x_n| = {abs(x_seuraava - x_nykyinen):.6f}\")\n",
    "    if abs(x_seuraava - x_nykyinen) < toleranssi:\n",
    "        print(f\"Konvergoitui arvoon {x_seuraava:.6f} {i + 1} iteroinnin jälkeen.\")\n",
    "        break\n",
    "    x_nykyinen = x_seuraava\n",
    "else:\n",
    "    print(\"Ei konvergoitunut annetussa iterointirajassa.\")\n"
   ]
  },
  {
   "cell_type": "code",
   "execution_count": 7,
   "metadata": {},
   "outputs": [
    {
     "name": "stdout",
     "output_type": "stream",
     "text": [
      "Iteraatio 1: x_n = 1.000000, x_n+1 = 0.951890, |x_n+1 - x_n| = 0.048110\n",
      "Iteraatio 2: x_n = 0.951890, x_n+1 = 0.929265, |x_n+1 - x_n| = 0.022625\n",
      "Iteraatio 3: x_n = 0.929265, x_n+1 = 0.918812, |x_n+1 - x_n| = 0.010453\n",
      "Iteraatio 4: x_n = 0.918812, x_n+1 = 0.914022, |x_n+1 - x_n| = 0.004790\n",
      "Iteraatio 5: x_n = 0.914022, x_n+1 = 0.911836, |x_n+1 - x_n| = 0.002186\n",
      "Iteraatio 6: x_n = 0.911836, x_n+1 = 0.910840, |x_n+1 - x_n| = 0.000996\n",
      "Iteraatio 7: x_n = 0.910840, x_n+1 = 0.910386, |x_n+1 - x_n| = 0.000454\n",
      "Iteraatio 8: x_n = 0.910386, x_n+1 = 0.910180, |x_n+1 - x_n| = 0.000206\n",
      "Iteraatio 9: x_n = 0.910180, x_n+1 = 0.910086, |x_n+1 - x_n| = 0.000094\n",
      "Iteraatio 10: x_n = 0.910086, x_n+1 = 0.910043, |x_n+1 - x_n| = 0.000043\n",
      "Iteraatio 11: x_n = 0.910043, x_n+1 = 0.910024, |x_n+1 - x_n| = 0.000019\n",
      "Iteraatio 12: x_n = 0.910024, x_n+1 = 0.910015, |x_n+1 - x_n| = 0.000009\n",
      "Iteraatio 13: x_n = 0.910015, x_n+1 = 0.910011, |x_n+1 - x_n| = 0.000004\n",
      "Iteraatio 14: x_n = 0.910011, x_n+1 = 0.910009, |x_n+1 - x_n| = 0.000002\n",
      "Iteraatio 15: x_n = 0.910009, x_n+1 = 0.910008, |x_n+1 - x_n| = 0.000001\n",
      "Konvergoitui arvoon 0.910008 15 iteroinnin jälkeen.\n"
     ]
    }
   ],
   "source": [
    "# Kiintopistemenetelma funktiolle 3x^2 = e^x\n",
    "import math\n",
    "\n",
    "def g(x):\n",
    "    return math.sqrt(math.exp(x) / 3)\n",
    "\n",
    "# Parametrit\n",
    "x0 = 1.0  # Alkuarvaus\n",
    "toleranssi = 1e-6  # Kriteeri konvergenssille\n",
    "maksimi_iteraatiot = 100  # Iteraatioiden enimmäismäärä\n",
    "\n",
    "# Suoritetaan kiintopistemenetelma\n",
    "x_nykyinen = x0\n",
    "for i in range(maksimi_iteraatiot):\n",
    "    x_seuraava = g(x_nykyinen)\n",
    "    print(f\"Iteraatio {i + 1}: x_n = {x_nykyinen:.6f}, x_n+1 = {x_seuraava:.6f}, |x_n+1 - x_n| = {abs(x_seuraava - x_nykyinen):.6f}\")\n",
    "    if abs(x_seuraava - x_nykyinen) < toleranssi:\n",
    "        print(f\"Konvergoitui arvoon {x_seuraava:.6f} {i + 1} iteroinnin jälkeen.\")\n",
    "        break\n",
    "    x_nykyinen = x_seuraava\n",
    "else:\n",
    "    print(\"Ei konvergoitunut annetussa iterointirajassa.\")\n"
   ]
  },
  {
   "cell_type": "code",
   "execution_count": null,
   "metadata": {},
   "outputs": [],
   "source": []
  }
 ],
 "metadata": {
  "kernelspec": {
   "display_name": ".venv",
   "language": "python",
   "name": "python3"
  },
  "language_info": {
   "codemirror_mode": {
    "name": "ipython",
    "version": 3
   },
   "file_extension": ".py",
   "mimetype": "text/x-python",
   "name": "python",
   "nbconvert_exporter": "python",
   "pygments_lexer": "ipython3",
   "version": "3.11.6"
  }
 },
 "nbformat": 4,
 "nbformat_minor": 2
}
