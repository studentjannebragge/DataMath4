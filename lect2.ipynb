{
 "cells": [
  {
   "cell_type": "markdown",
   "metadata": {},
   "source": [
    "### Luento 2"
   ]
  },
  {
   "cell_type": "code",
   "execution_count": 14,
   "metadata": {},
   "outputs": [],
   "source": [
    "import math\n",
    "import numpy as np"
   ]
  },
  {
   "cell_type": "markdown",
   "metadata": {},
   "source": [
    "tehtävä 1"
   ]
  },
  {
   "cell_type": "code",
   "execution_count": 2,
   "metadata": {},
   "outputs": [
    {
     "name": "stdout",
     "output_type": "stream",
     "text": [
      "Iteraatio 1: Väli = [0.000000, 3.000000], Keskipiste = 1.500000, f(c) = 0.375000\n",
      "Iteraatio 2: Väli = [0.000000, 1.500000], Keskipiste = 0.750000, f(c) = -2.578125\n",
      "Iteraatio 3: Väli = [0.750000, 1.500000], Keskipiste = 1.125000, f(c) = -1.576172\n",
      "Iteraatio 4: Väli = [1.125000, 1.500000], Keskipiste = 1.312500, f(c) = -0.739014\n",
      "Iteraatio 5: Väli = [1.312500, 1.500000], Keskipiste = 1.406250, f(c) = -0.219086\n",
      "Iteraatio 6: Väli = [1.406250, 1.500000], Keskipiste = 1.453125, f(c) = 0.068378\n",
      "Iteraatio 7: Väli = [1.406250, 1.453125], Keskipiste = 1.429688, f(c) = -0.077710\n",
      "Iteraatio 8: Väli = [1.429688, 1.453125], Keskipiste = 1.441406, f(c) = -0.005259\n",
      "Iteraatio 9: Väli = [1.441406, 1.453125], Keskipiste = 1.447266, f(c) = 0.031410\n",
      "Iteraatio 10: Väli = [1.441406, 1.447266], Keskipiste = 1.444336, f(c) = 0.013038\n",
      "Iteraatio 11: Väli = [1.441406, 1.444336], Keskipiste = 1.442871, f(c) = 0.003880\n",
      "\n",
      "Tarkkuus saavutettu iteraatiossa 11.\n",
      "\n",
      "Löydetty nollakohta: 1.44\n"
     ]
    }
   ],
   "source": [
    "def bisection_method(func, a, b, max_iterations, tolerance):\n",
    "    \"\"\"\n",
    "    Puolitusmenetelmän toteutus nollakohdan etsintään.\n",
    "\n",
    "    :param func: Funktio, jonka nollakohtaa etsitään\n",
    "    :param a: Välin alkupiste\n",
    "    :param b: Välin loppupiste\n",
    "    :param max_iterations: Suurin sallittu iterointien määrä\n",
    "    :param tolerance: Haluttu tarkkuus nollakohdalle\n",
    "    :return: Nollakohta ja sen arvo funktiossa\n",
    "    \"\"\"\n",
    "    if func(a) * func(b) >= 0:\n",
    "        raise ValueError(\"Funktiolla ei ole nollakohtaa annetulla välillä tai on useita nollakohtia.\")\n",
    "\n",
    "    for iteration in range(max_iterations):\n",
    "        c = (a + b) / 2\n",
    "        print(f\"Iteraatio {iteration + 1}: Väli = [{a:.6f}, {b:.6f}], Keskipiste = {c:.6f}, f(c) = {func(c):.6f}\")\n",
    "\n",
    "        if abs(func(c)) < tolerance:  # Tarkista, onko tarkkuus saavutettu\n",
    "            print(f\"\\nTarkkuus saavutettu iteraatiossa {iteration + 1}.\")\n",
    "            return c\n",
    "        \n",
    "        if func(a) * func(c) < 0:\n",
    "            b = c\n",
    "        else:\n",
    "            a = c\n",
    "    \n",
    "    print(\"\\nMaksimi-iterointimäärä saavutettu.\")\n",
    "    return (a + b) / 2\n",
    "\n",
    "# Esimerkki: Määritellään funktio\n",
    "def f(x):\n",
    "    return x**3 - 3\n",
    "\n",
    "# Käyttäjän määrittämät parametrit\n",
    "a = 0  # Välin alku\n",
    "b = 3  # Välin loppu\n",
    "max_iterations = 20  # Iteraatioiden enimmäismäärä\n",
    "tolerance = 0.005  # Tarkkuus kahden desimaalin tarkkuudella\n",
    "\n",
    "# Lasketaan nollakohta\n",
    "root = bisection_method(f, a, b, max_iterations, tolerance)\n",
    "print(f\"\\nLöydetty nollakohta: {root:.2f}\")\n"
   ]
  },
  {
   "cell_type": "code",
   "execution_count": 3,
   "metadata": {},
   "outputs": [
    {
     "name": "stdout",
     "output_type": "stream",
     "text": [
      "Iteraatio 1: Väli = [0.100000, 1.000000], Keskipiste = 0.550000, f(c) = -0.047837\n",
      "Iteraatio 2: Väli = [0.550000, 1.000000], Keskipiste = 0.775000, f(c) = 0.520108\n",
      "Iteraatio 3: Väli = [0.550000, 0.775000], Keskipiste = 0.662500, f(c) = 0.250765\n",
      "Iteraatio 4: Väli = [0.550000, 0.662500], Keskipiste = 0.606250, f(c) = 0.105787\n",
      "Iteraatio 5: Väli = [0.550000, 0.606250], Keskipiste = 0.578125, f(c) = 0.030160\n",
      "Iteraatio 6: Väli = [0.550000, 0.578125], Keskipiste = 0.564063, f(c) = -0.008528\n",
      "Iteraatio 7: Väli = [0.564063, 0.578125], Keskipiste = 0.571094, f(c) = 0.010892\n",
      "Iteraatio 8: Väli = [0.564063, 0.571094], Keskipiste = 0.567578, f(c) = 0.001201\n",
      "\n",
      "Tarkkuus saavutettu iteraatiossa 8.\n",
      "\n",
      "Löydetty nollakohta: 0.57\n"
     ]
    }
   ],
   "source": [
    "def bisection_method(func, a, b, max_iterations, tolerance):\n",
    "    \"\"\"\n",
    "    Puolitusmenetelmän toteutus nollakohdan etsintään.\n",
    "\n",
    "    :param func: Funktio, jonka nollakohtaa etsitään\n",
    "    :param a: Välin alkupiste\n",
    "    :param b: Välin loppupiste\n",
    "    :param max_iterations: Suurin sallittu iterointien määrä\n",
    "    :param tolerance: Haluttu tarkkuus nollakohdalle\n",
    "    :return: Nollakohta ja sen arvo funktiossa\n",
    "    \"\"\"\n",
    "    if func(a) * func(b) >= 0:\n",
    "        raise ValueError(\"Funktiolla ei ole nollakohtaa annetulla välillä tai on useita nollakohtia.\")\n",
    "\n",
    "    for iteration in range(max_iterations):\n",
    "        c = (a + b) / 2\n",
    "        print(f\"Iteraatio {iteration + 1}: Väli = [{a:.6f}, {b:.6f}], Keskipiste = {c:.6f}, f(c) = {func(c):.6f}\")\n",
    "\n",
    "        if abs(func(c)) < tolerance:  # Tarkista, onko tarkkuus saavutettu\n",
    "            print(f\"\\nTarkkuus saavutettu iteraatiossa {iteration + 1}.\")\n",
    "            return c\n",
    "        \n",
    "        if func(a) * func(c) < 0:\n",
    "            b = c\n",
    "        else:\n",
    "            a = c\n",
    "    \n",
    "    print(\"\\nMaksimi-iterointimäärä saavutettu.\")\n",
    "    return (a + b) / 2\n",
    "\n",
    "# Esimerkki: Määritellään funktio\n",
    "def f(x):\n",
    "    return math.log(x) + x\n",
    "\n",
    "# Käyttäjän määrittämät parametrit\n",
    "a = 1/10  # Välin alku\n",
    "b = 1  # Välin loppu\n",
    "max_iterations = 20  # Iteraatioiden enimmäismäärä\n",
    "tolerance = 0.005  # haluttu tarkkuus\n",
    "\n",
    "# Lasketaan nollakohta\n",
    "root = bisection_method(f, a, b, max_iterations, tolerance)\n",
    "print(f\"\\nLöydetty nollakohta: {root:.2f}\")"
   ]
  },
  {
   "cell_type": "code",
   "execution_count": 4,
   "metadata": {},
   "outputs": [
    {
     "name": "stdout",
     "output_type": "stream",
     "text": [
      "Iteraatio 1: Väli = [0.000000, 1.000000], Keskipiste = 0.500000, f(c) = -0.278801\n",
      "Iteraatio 2: Väli = [0.500000, 1.000000], Keskipiste = 0.750000, f(c) = 0.180217\n",
      "Iteraatio 3: Väli = [0.500000, 0.750000], Keskipiste = 0.625000, f(c) = -0.051634\n",
      "Iteraatio 4: Väli = [0.625000, 0.750000], Keskipiste = 0.687500, f(c) = 0.064156\n",
      "Iteraatio 5: Väli = [0.625000, 0.687500], Keskipiste = 0.656250, f(c) = 0.006173\n",
      "Iteraatio 6: Väli = [0.625000, 0.656250], Keskipiste = 0.640625, f(c) = -0.022760\n",
      "Iteraatio 7: Väli = [0.640625, 0.656250], Keskipiste = 0.648438, f(c) = -0.008300\n",
      "Iteraatio 8: Väli = [0.648438, 0.656250], Keskipiste = 0.652344, f(c) = -0.001065\n",
      "\n",
      "Tarkkuus saavutettu iteraatiossa 8.\n",
      "\n",
      "Löydetty nollakohta: 0.65\n"
     ]
    }
   ],
   "source": [
    "def bisection_method(func, a, b, max_iterations, tolerance):\n",
    "    \"\"\"\n",
    "    Puolitusmenetelmän toteutus nollakohdan etsintään.\n",
    "\n",
    "    :param func: Funktio, jonka nollakohtaa etsitään\n",
    "    :param a: Välin alkupiste\n",
    "    :param b: Välin loppupiste\n",
    "    :param max_iterations: Suurin sallittu iterointien määrä\n",
    "    :param tolerance: Haluttu tarkkuus nollakohdalle\n",
    "    :return: Nollakohta ja sen arvo funktiossa\n",
    "    \"\"\"\n",
    "    if func(a) * func(b) >= 0:\n",
    "        raise ValueError(\"Funktiolla ei ole nollakohtaa annetulla välillä tai on useita nollakohtia.\")\n",
    "\n",
    "    for iteration in range(max_iterations):\n",
    "        c = (a + b) / 2\n",
    "        print(f\"Iteraatio {iteration + 1}: Väli = [{a:.6f}, {b:.6f}], Keskipiste = {c:.6f}, f(c) = {func(c):.6f}\")\n",
    "\n",
    "        if abs(func(c)) < tolerance:  # Tarkista, onko tarkkuus saavutettu\n",
    "            print(f\"\\nTarkkuus saavutettu iteraatiossa {iteration + 1}.\")\n",
    "            return c\n",
    "        \n",
    "        if func(a) * func(c) < 0:\n",
    "            b = c\n",
    "        else:\n",
    "            a = c\n",
    "    \n",
    "    print(\"\\nMaksimi-iterointimäärä saavutettu.\")\n",
    "    return (a + b) / 2\n",
    "\n",
    "# Esimerkki: Määritellään funktio\n",
    "def f(x):\n",
    "    return x - math.exp(-x**2)\n",
    "\n",
    "# Käyttäjän määrittämät parametrit\n",
    "a = 0  # Välin alku\n",
    "b = 1  # Välin loppu\n",
    "max_iterations = 20  # Iteraatioiden enimmäismäärä\n",
    "tolerance = 0.005  # haluttu tarkkuus\n",
    "\n",
    "# Lasketaan nollakohta\n",
    "root = bisection_method(f, a, b, max_iterations, tolerance)\n",
    "print(f\"\\nLöydetty nollakohta: {root:.2f}\")"
   ]
  },
  {
   "cell_type": "markdown",
   "metadata": {},
   "source": [
    "Opettajan vastaus"
   ]
  },
  {
   "cell_type": "code",
   "execution_count": 18,
   "metadata": {},
   "outputs": [
    {
     "name": "stdout",
     "output_type": "stream",
     "text": [
      "Estimated zero: 0.652918815612793\n",
      "Number of iterations: 19\n"
     ]
    }
   ],
   "source": [
    "import numpy as np\n",
    "\n",
    "def bisection_method(func, a, b, tol=1e-6, max_iterations=100):\n",
    "    \"\"\"\n",
    "    Bisection method for finding a zero of a function within a given interval.\n",
    "\n",
    "    Parameters:\n",
    "    - func: The function for which to find the zero.\n",
    "    - a, b: The interval [a, b] in which to search for the zero.\n",
    "    - tol: Tolerance for stopping criteria (default: 1e-6).\n",
    "    - max_iterations: Maximum number of iterations (default: 100).\n",
    "\n",
    "    Returns:\n",
    "    - root: The estimated zero.\n",
    "    - iterations: Number of iterations performed.\n",
    "    \"\"\"\n",
    "\n",
    "    if func(a) * func(b) > 0:\n",
    "        raise ValueError(\"The function values at the interval endpoints must have opposite signs.\")\n",
    "\n",
    "    iterations = 0\n",
    "\n",
    "    while (b - a) / 2 > tol and iterations < max_iterations:\n",
    "        c = (a + b) / 2\n",
    "        if func(c) == 0:\n",
    "            return c, iterations\n",
    "        elif func(c) * func(a) < 0:\n",
    "            b = c\n",
    "        else:\n",
    "            a = c\n",
    "\n",
    "        iterations += 1\n",
    "\n",
    "    return (a + b) / 2, iterations\n",
    "\n",
    "# Define the function\n",
    "def f(x):\n",
    "    # return x**3 - 3\n",
    "    # return np.log(x)+x\n",
    "    return x-np.e**(-(x**2)) \n",
    "# Set the interval [lower_bound, upper_bound]\n",
    "# lower_bound = 0\n",
    "# upper_bound = 3\n",
    "# lower_bound = 0.1\n",
    "# upper_bound = 1\n",
    "lower_bound = 0\n",
    "upper_bound = 1\n",
    "\n",
    "# Apply the bisection method\n",
    "zero_estimate, num_iterations = bisection_method(f, lower_bound, upper_bound)\n",
    "\n",
    "print(\"Estimated zero:\", zero_estimate)\n",
    "print(\"Number of iterations:\", num_iterations)\n",
    "\n",
    "# luonnollinen logaritmi, esim. luvusta 2:\n",
    "test=np.log(2)\n",
    "# Neperin luku e:\n",
    "euler_number = np.e"
   ]
  },
  {
   "cell_type": "markdown",
   "metadata": {},
   "source": [
    "Tehtävä 2"
   ]
  },
  {
   "cell_type": "markdown",
   "metadata": {},
   "source": [
    "Opettajan vastaus"
   ]
  },
  {
   "cell_type": "code",
   "execution_count": 28,
   "metadata": {},
   "outputs": [
    {
     "name": "stdout",
     "output_type": "stream",
     "text": [
      "Fixed-point iteration did not converge within the maximum number of iterations.\n",
      "Estimated root: None\n",
      "Number of iterations: 100\n"
     ]
    }
   ],
   "source": [
    "import numpy as np\n",
    "\n",
    "\n",
    "def fixed_point_iteration(func, initial_guess, tol=1e-6, max_iterations=100):\n",
    "    \"\"\"\n",
    "    Fixed-point iteration method for finding a root of a function.\n",
    "\n",
    "    Parameters:\n",
    "    - func: The function for which to find the root.\n",
    "    - initial_guess: Initial guess for the root.\n",
    "    - tol: Tolerance for stopping criteria (default: 1e-6).\n",
    "    - max_iterations: Maximum number of iterations (default: 100).\n",
    "\n",
    "    Returns:\n",
    "    - root: The estimated root.\n",
    "    - iterations: Number of iterations performed.\n",
    "    \"\"\"\n",
    "    \n",
    "    x = initial_guess\n",
    "\n",
    "    for iteration in range(max_iterations):\n",
    "        x_new = func(x)\n",
    "\n",
    "        if abs(x_new - x) < tol:\n",
    "            print(f\"Converged to solution after {iteration + 1} iterations.\")\n",
    "            return x_new, iteration + 1\n",
    "        \n",
    "        x = x_new\n",
    "        if x <= 1:\n",
    "            x= 1\n",
    "        if x > 2:\n",
    "            x=2\n",
    "                    \n",
    "\n",
    "    print(\"Fixed-point iteration did not converge within the maximum number of iterations.\")\n",
    "    return None, max_iterations\n",
    "\n",
    "# Define the function and its fixed-point equivalent\n",
    "euler_number = np.e\n",
    "\n",
    "def f(x):\n",
    "    return  x**3 - x - 1\n",
    "      \n",
    "def g(x):\n",
    "    # Rearrange f(x) = 0 to find g(x), joka on muodostettu f(x):stä, jolloin g(x) = x\n",
    "    return  x**3 - 1\n",
    "\n",
    "# Set the initial guess and interval [1, 2]\n",
    "initial_guess = 1.5\n",
    "\n",
    "# Apply the fixed-point iteration method\n",
    "root_estimate, num_iterations = fixed_point_iteration(g, initial_guess)\n",
    "\n",
    "print(\"Estimated root:\", root_estimate)\n",
    "print(\"Number of iterations:\", num_iterations)"
   ]
  },
  {
   "cell_type": "markdown",
   "metadata": {},
   "source": [
    "tehtävä a: ei pysty ratkaisemaan\n",
    "\n",
    "kulmakerroin liian suuri ratkaisemaan\n"
   ]
  },
  {
   "cell_type": "markdown",
   "metadata": {},
   "source": [
    "Opettajan vastaus"
   ]
  },
  {
   "cell_type": "code",
   "execution_count": 23,
   "metadata": {},
   "outputs": [
    {
     "name": "stdout",
     "output_type": "stream",
     "text": [
      "Converged to solution after 18 iterations.\n",
      "Estimated root: 0.9100081303980485\n",
      "Number of iterations: 18\n",
      "1.6601736496646424e-06\n"
     ]
    }
   ],
   "source": [
    "import numpy as np\n",
    "\n",
    "\n",
    "def fixed_point_iteration(func, initial_guess, tol=1e-6, max_iterations=100):\n",
    "    \"\"\"\n",
    "    Fixed-point iteration method for finding a root of a function.\n",
    "\n",
    "    Parameters:\n",
    "    - func: The function for which to find the root.\n",
    "    - initial_guess: Initial guess for the root.\n",
    "    - tol: Tolerance for stopping criteria (default: 1e-6).\n",
    "    - max_iterations: Maximum number of iterations (default: 100).\n",
    "\n",
    "    Returns:\n",
    "    - root: The estimated root.\n",
    "    - iterations: Number of iterations performed.\n",
    "    \"\"\"\n",
    "    \n",
    "    x = initial_guess\n",
    "\n",
    "    for iteration in range(max_iterations):\n",
    "        x_new = func(x)\n",
    "\n",
    "        if abs(x_new - x) < tol:\n",
    "            print(f\"Converged to solution after {iteration + 1} iterations.\")\n",
    "            return x_new, iteration + 1\n",
    "        \n",
    "        x = x_new\n",
    "        if x <= 0:\n",
    "            x=0.0001\n",
    "        if x > 20000:\n",
    "            x=20000\n",
    "                    \n",
    "\n",
    "    print(\"Fixed-point iteration did not converge within the maximum number of iterations.\")\n",
    "    return None, max_iterations\n",
    "\n",
    "# Define the function and its fixed-point equivalent\n",
    "euler_number = np.e\n",
    "\n",
    "def f(x):\n",
    "    return  3*(x**2) - euler_number**x #  x**3 -x -1\n",
    "        # f(x)=0 on alkuperäinen tehtävänanto\n",
    "def g(x):\n",
    "    # Rearrange f(x) = 0 to find g(x), joka on muodostettu f(x):stä, jolloin g(x) = x\n",
    "    return  np.sqrt(1/3*euler_number**x) #  x**3 - 1\n",
    "\n",
    "# Set the initial guess and interval [1, 2]\n",
    "initial_guess = 1.5\n",
    "\n",
    "# Apply the fixed-point iteration method\n",
    "root_estimate, num_iterations = fixed_point_iteration(g, initial_guess)\n",
    "\n",
    "print(\"Estimated root:\", root_estimate)\n",
    "print(\"Number of iterations:\", num_iterations)\n",
    "\n",
    "#tarkistus\n",
    "print(3*(root_estimate**2)- euler_number**root_estimate)"
   ]
  },
  {
   "cell_type": "markdown",
   "metadata": {},
   "source": [
    "Tehtävä 3"
   ]
  },
  {
   "cell_type": "markdown",
   "metadata": {},
   "source": [
    "Opettajan ratkaisu"
   ]
  },
  {
   "cell_type": "code",
   "execution_count": 17,
   "metadata": {},
   "outputs": [
    {
     "name": "stdout",
     "output_type": "stream",
     "text": [
      "Converged to solution after 6 iterations.\n",
      "Approximate solution: [1. 2.]\n"
     ]
    }
   ],
   "source": [
    "import numpy as np\n",
    "\n",
    "# Define the system of equations\n",
    "def equations(vars):\n",
    "    x, y = vars\n",
    "    eq1 = y * x**3 - x * y**2 + 2\n",
    "    eq2 = x + y + x * y - 5\n",
    "    return np.array([eq1, eq2])\n",
    "\n",
    "# Compute the Jacobian matrix\n",
    "def jacobian(vars):\n",
    "    x, y = vars\n",
    "    df1_dx = 3 * x**2 * y - y**2\n",
    "    df1_dy = x**3 - 2 * x * y\n",
    "    df2_dx = 1 + y\n",
    "    df2_dy = x + x\n",
    "\n",
    "    return np.array([[df1_dx, df1_dy], [df2_dx, df2_dy]])\n",
    "\n",
    "# Newton-Raphson method\n",
    "def newton_raphson(initial_guess, tol=1e-6, max_iterations=100):\n",
    "    vars = np.array(initial_guess)\n",
    "\n",
    "    for iteration in range(max_iterations):\n",
    "        f = equations(vars)\n",
    "        J = jacobian(vars)\n",
    "\n",
    "        # Update using the inverse of the Jacobian matrix\n",
    "        # vars -= np.linalg.solve(J, f)\n",
    "        \n",
    "        # Directly perform matrix operations without linalg.inv or np.dot\n",
    "        det_J = J[0, 0] * J[1, 1] - J[0, 1] * J[1, 0]\n",
    "        J_inv = np.array([[J[1, 1], -J[0, 1]], [-J[1, 0], J[0, 0]]]) / det_J\n",
    "\n",
    "        vars -= np.array([f[0] * J_inv[0, 0] + f[1] * J_inv[0, 1], f[0] * J_inv[1, 0] + f[1] * J_inv[1, 1]])\n",
    "\n",
    "\n",
    "        # Check for convergence\n",
    "        #if np.linalg.norm(f, ord=np.inf) < tol:\n",
    "        if np.max(np.abs(f)) < tol:\n",
    "            print(f\"Converged to solution after {iteration + 1} iterations.\")\n",
    "            return vars\n",
    "\n",
    "    print(\"Newton-Raphson method did not converge within the maximum number of iterations.\")\n",
    "    return None\n",
    "\n",
    "# Initial guess\n",
    "initial_guess = [1.0, 1.0] #x ja y\n",
    "\n",
    "# Apply the Newton-Raphson method\n",
    "solution = newton_raphson(initial_guess)\n",
    "\n",
    "if solution is not None:\n",
    "    print(\"Approximate solution:\", solution)"
   ]
  },
  {
   "cell_type": "markdown",
   "metadata": {},
   "source": [
    "Gemini"
   ]
  },
  {
   "cell_type": "code",
   "execution_count": 30,
   "metadata": {},
   "outputs": [
    {
     "name": "stdout",
     "output_type": "stream",
     "text": [
      "Ratkaisu: x = [1. 2.]\n",
      "Iteraatioita: 7\n",
      "Virhe: Jacobin matriisi on singulaarinen.\n"
     ]
    }
   ],
   "source": [
    "import numpy as np\n",
    "\n",
    "def f(x):\n",
    "    \"\"\"Funktio, jonka nollakohtia etsitään.\"\"\"\n",
    "    return np.array([x[0]**3 * x[1] - x[0] * x[1]**2 + 2,\n",
    "                     x[0] + x[1] + x[0] * x[1] - 5])\n",
    "\n",
    "def jacobian(x):\n",
    "    \"\"\"Jacobin matriisi.\"\"\"\n",
    "    return np.array([[3 * x[0]**2 * x[1] - x[1]**2, x[0]**3 - 2 * x[0] * x[1]],\n",
    "                     [1 + x[1], 1 + x[0]]])\n",
    "\n",
    "def newton_method(x0, tolerance=1e-8, max_iterations=100):\n",
    "    \"\"\"Newtonin menetelmä.\"\"\"\n",
    "    x = np.array(x0, dtype=float)  # Varmistetaan liukuluvut\n",
    "    for i in range(max_iterations):\n",
    "        fx = f(x)\n",
    "        jx = jacobian(x)\n",
    "        if np.linalg.det(jx) == 0: # Tarkistetaan onko determinantti nolla\n",
    "            raise ZeroDivisionError(\"Jacobin matriisi on singulaarinen.\")\n",
    "        delta_x = np.linalg.solve(jx, -fx) # Käytetään np.linalg.solve tehokkaampaan ratkaisuun\n",
    "        x = x + delta_x\n",
    "        if np.linalg.norm(delta_x) < tolerance:\n",
    "            return x, i + 1\n",
    "    raise RuntimeError(f\"Newtonin menetelmä ei suppene {max_iterations} iteraatiossa.\")\n",
    "\n",
    "\n",
    "if __name__ == \"__main__\":\n",
    "    x0 = [1, 1]\n",
    "    try:\n",
    "        solution, iterations = newton_method(x0)\n",
    "        print(f\"Ratkaisu: x = {solution}\")\n",
    "        print(f\"Iteraatioita: {iterations}\")\n",
    "    except (RuntimeError, ZeroDivisionError) as e:\n",
    "        print(f\"Virhe: {e}\")\n",
    "\n",
    "    # Testataan toisella alkuarvolla, joka saattaa aiheuttaa ongelmia\n",
    "    x0_2 = [0,0]\n",
    "    try:\n",
    "        solution, iterations = newton_method(x0_2)\n",
    "        print(f\"Ratkaisu: x = {solution}\")\n",
    "        print(f\"Iteraatioita: {iterations}\")\n",
    "    except (RuntimeError, ZeroDivisionError) as e:\n",
    "        print(f\"Virhe: {e}\")"
   ]
  },
  {
   "cell_type": "markdown",
   "metadata": {},
   "source": [
    "ChatGPT"
   ]
  },
  {
   "cell_type": "code",
   "execution_count": 31,
   "metadata": {},
   "outputs": [
    {
     "name": "stdout",
     "output_type": "stream",
     "text": [
      "Iteraatio 1: x = [0.66666667 2.33333333]\n",
      "Iteraatio 2: x = [1.17902622 1.5752809 ]\n",
      "Iteraatio 3: x = [0.98240359 1.98590188]\n",
      "Iteraatio 4: x = [1.00027815 1.99970619]\n",
      "Iteraatio 5: x = [1.00000005 1.99999988]\n",
      "Iteraatio 6: x = [1. 2.]\n",
      "Ratkaisu saavutettu!\n"
     ]
    }
   ],
   "source": [
    "import numpy as np\n",
    "\n",
    "# Määritellään funktiot f(x) ja sen Jacobin matriisi f'(x)\n",
    "def f(x):\n",
    "    return np.array([\n",
    "        x[0]**3 * x[1] - x[0] * x[1]**2 + 2,\n",
    "        x[0] + x[1] + x[0] * x[1] - 5\n",
    "    ])\n",
    "\n",
    "def jacobian(x):\n",
    "    return np.array([\n",
    "        [3*x[0]**2 * x[1] - x[1]**2, x[0]**3 - 2*x[0]*x[1]],\n",
    "        [1 + x[1], 1 + x[0]]\n",
    "    ])\n",
    "\n",
    "# Alkuehdot\n",
    "x0 = np.array([1.0, 1.0])\n",
    "tolerance = 1e-6\n",
    "max_iterations = 10\n",
    "\n",
    "# Newtonin menetelmä\n",
    "for iteration in range(max_iterations):\n",
    "    f_val = f(x0)\n",
    "    jacobian_val = jacobian(x0)\n",
    "    delta = np.linalg.solve(jacobian_val, -f_val)  # Ratkaistaan delta\n",
    "    x0 = x0 + delta  # Päivitetään arvo\n",
    "    \n",
    "    # Tulostetaan iteraation tulos\n",
    "    print(f\"Iteraatio {iteration + 1}: x = {x0}\")\n",
    "    \n",
    "    # Tarkistetaan, onko ratkaisu tarpeeksi tarkka\n",
    "    if np.linalg.norm(delta, ord=2) < tolerance:\n",
    "        print(\"Ratkaisu saavutettu!\")\n",
    "        break\n"
   ]
  }
 ],
 "metadata": {
  "kernelspec": {
   "display_name": ".venv",
   "language": "python",
   "name": "python3"
  },
  "language_info": {
   "codemirror_mode": {
    "name": "ipython",
    "version": 3
   },
   "file_extension": ".py",
   "mimetype": "text/x-python",
   "name": "python",
   "nbconvert_exporter": "python",
   "pygments_lexer": "ipython3",
   "version": "3.11.6"
  }
 },
 "nbformat": 4,
 "nbformat_minor": 2
}
