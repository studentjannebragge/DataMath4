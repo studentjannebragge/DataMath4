{
 "cells": [
  {
   "cell_type": "markdown",
   "metadata": {},
   "source": [
    "### Luento 2"
   ]
  },
  {
   "cell_type": "code",
   "execution_count": 16,
   "metadata": {},
   "outputs": [],
   "source": [
    "import math"
   ]
  },
  {
   "cell_type": "markdown",
   "metadata": {},
   "source": [
    "tehtävä 1"
   ]
  },
  {
   "cell_type": "code",
   "execution_count": 19,
   "metadata": {},
   "outputs": [
    {
     "name": "stdout",
     "output_type": "stream",
     "text": [
      "Iteraatio 1: Väli = [0.000000, 3.000000], Keskipiste = 1.500000, f(c) = 0.375000\n",
      "Iteraatio 2: Väli = [0.000000, 1.500000], Keskipiste = 0.750000, f(c) = -2.578125\n",
      "Iteraatio 3: Väli = [0.750000, 1.500000], Keskipiste = 1.125000, f(c) = -1.576172\n",
      "Iteraatio 4: Väli = [1.125000, 1.500000], Keskipiste = 1.312500, f(c) = -0.739014\n",
      "Iteraatio 5: Väli = [1.312500, 1.500000], Keskipiste = 1.406250, f(c) = -0.219086\n",
      "Iteraatio 6: Väli = [1.406250, 1.500000], Keskipiste = 1.453125, f(c) = 0.068378\n",
      "Iteraatio 7: Väli = [1.406250, 1.453125], Keskipiste = 1.429688, f(c) = -0.077710\n",
      "Iteraatio 8: Väli = [1.429688, 1.453125], Keskipiste = 1.441406, f(c) = -0.005259\n",
      "\n",
      "Tarkkuus saavutettu iteraatiossa 8.\n",
      "\n",
      "Löydetty nollakohta: 1.44\n"
     ]
    }
   ],
   "source": [
    "def bisection_method(func, a, b, max_iterations, tolerance):\n",
    "    \"\"\"\n",
    "    Puolitusmenetelmän toteutus nollakohdan etsintään.\n",
    "\n",
    "    :param func: Funktio, jonka nollakohtaa etsitään\n",
    "    :param a: Välin alkupiste\n",
    "    :param b: Välin loppupiste\n",
    "    :param max_iterations: Suurin sallittu iterointien määrä\n",
    "    :param tolerance: Haluttu tarkkuus nollakohdalle\n",
    "    :return: Nollakohta ja sen arvo funktiossa\n",
    "    \"\"\"\n",
    "    if func(a) * func(b) >= 0:\n",
    "        raise ValueError(\"Funktiolla ei ole nollakohtaa annetulla välillä tai on useita nollakohtia.\")\n",
    "\n",
    "    for iteration in range(max_iterations):\n",
    "        c = (a + b) / 2\n",
    "        print(f\"Iteraatio {iteration + 1}: Väli = [{a:.6f}, {b:.6f}], Keskipiste = {c:.6f}, f(c) = {func(c):.6f}\")\n",
    "\n",
    "        if abs(func(c)) < tolerance:  # Tarkista, onko tarkkuus saavutettu\n",
    "            print(f\"\\nTarkkuus saavutettu iteraatiossa {iteration + 1}.\")\n",
    "            return c\n",
    "        \n",
    "        if func(a) * func(c) < 0:\n",
    "            b = c\n",
    "        else:\n",
    "            a = c\n",
    "    \n",
    "    print(\"\\nMaksimi-iterointimäärä saavutettu.\")\n",
    "    return (a + b) / 2\n",
    "\n",
    "# Esimerkki: Määritellään funktio\n",
    "def f(x):\n",
    "    return x**3 - 3\n",
    "\n",
    "# Käyttäjän määrittämät parametrit\n",
    "a = 0  # Välin alku\n",
    "b = 3  # Välin loppu\n",
    "max_iterations = 20  # Iteraatioiden enimmäismäärä\n",
    "tolerance = 0.05  # Tarkkuus yhden desimaalin tarkkuudella\n",
    "\n",
    "# Lasketaan nollakohta\n",
    "root = bisection_method(f, a, b, max_iterations, tolerance)\n",
    "print(f\"\\nLöydetty nollakohta: {root:.2f}\")\n"
   ]
  },
  {
   "cell_type": "code",
   "execution_count": 17,
   "metadata": {},
   "outputs": [
    {
     "name": "stdout",
     "output_type": "stream",
     "text": [
      "Iteraatio 1: Väli = [0.100000, 1.000000], Keskipiste = 0.550000, f(c) = -0.047837\n",
      "\n",
      "Tarkkuus saavutettu iteraatiossa 1.\n",
      "\n",
      "Löydetty nollakohta: 0.55\n"
     ]
    }
   ],
   "source": [
    "def bisection_method(func, a, b, max_iterations, tolerance):\n",
    "    \"\"\"\n",
    "    Puolitusmenetelmän toteutus nollakohdan etsintään.\n",
    "\n",
    "    :param func: Funktio, jonka nollakohtaa etsitään\n",
    "    :param a: Välin alkupiste\n",
    "    :param b: Välin loppupiste\n",
    "    :param max_iterations: Suurin sallittu iterointien määrä\n",
    "    :param tolerance: Haluttu tarkkuus nollakohdalle\n",
    "    :return: Nollakohta ja sen arvo funktiossa\n",
    "    \"\"\"\n",
    "    if func(a) * func(b) >= 0:\n",
    "        raise ValueError(\"Funktiolla ei ole nollakohtaa annetulla välillä tai on useita nollakohtia.\")\n",
    "\n",
    "    for iteration in range(max_iterations):\n",
    "        c = (a + b) / 2\n",
    "        print(f\"Iteraatio {iteration + 1}: Väli = [{a:.6f}, {b:.6f}], Keskipiste = {c:.6f}, f(c) = {func(c):.6f}\")\n",
    "\n",
    "        if abs(func(c)) < tolerance:  # Tarkista, onko tarkkuus saavutettu\n",
    "            print(f\"\\nTarkkuus saavutettu iteraatiossa {iteration + 1}.\")\n",
    "            return c\n",
    "        \n",
    "        if func(a) * func(c) < 0:\n",
    "            b = c\n",
    "        else:\n",
    "            a = c\n",
    "    \n",
    "    print(\"\\nMaksimi-iterointimäärä saavutettu.\")\n",
    "    return (a + b) / 2\n",
    "\n",
    "# Esimerkki: Määritellään funktio\n",
    "def f(x):\n",
    "    return math.log(x) + x\n",
    "\n",
    "# Käyttäjän määrittämät parametrit\n",
    "a = 1/10  # Välin alku\n",
    "b = 1  # Välin loppu\n",
    "max_iterations = 20  # Iteraatioiden enimmäismäärä\n",
    "tolerance = 0.05  # Tarkkuus yhden desimaalin tarkkuudella\n",
    "\n",
    "# Lasketaan nollakohta\n",
    "root = bisection_method(f, a, b, max_iterations, tolerance)\n",
    "print(f\"\\nLöydetty nollakohta: {root:.2f}\")"
   ]
  },
  {
   "cell_type": "code",
   "execution_count": 18,
   "metadata": {},
   "outputs": [
    {
     "name": "stdout",
     "output_type": "stream",
     "text": [
      "Iteraatio 1: Väli = [0.000000, 1.000000], Keskipiste = 0.500000, f(c) = -0.278801\n",
      "Iteraatio 2: Väli = [0.500000, 1.000000], Keskipiste = 0.750000, f(c) = 0.180217\n",
      "Iteraatio 3: Väli = [0.500000, 0.750000], Keskipiste = 0.625000, f(c) = -0.051634\n",
      "Iteraatio 4: Väli = [0.625000, 0.750000], Keskipiste = 0.687500, f(c) = 0.064156\n",
      "Iteraatio 5: Väli = [0.625000, 0.687500], Keskipiste = 0.656250, f(c) = 0.006173\n",
      "\n",
      "Tarkkuus saavutettu iteraatiossa 5.\n",
      "\n",
      "Löydetty nollakohta: 0.66\n"
     ]
    }
   ],
   "source": [
    "def bisection_method(func, a, b, max_iterations, tolerance):\n",
    "    \"\"\"\n",
    "    Puolitusmenetelmän toteutus nollakohdan etsintään.\n",
    "\n",
    "    :param func: Funktio, jonka nollakohtaa etsitään\n",
    "    :param a: Välin alkupiste\n",
    "    :param b: Välin loppupiste\n",
    "    :param max_iterations: Suurin sallittu iterointien määrä\n",
    "    :param tolerance: Haluttu tarkkuus nollakohdalle\n",
    "    :return: Nollakohta ja sen arvo funktiossa\n",
    "    \"\"\"\n",
    "    if func(a) * func(b) >= 0:\n",
    "        raise ValueError(\"Funktiolla ei ole nollakohtaa annetulla välillä tai on useita nollakohtia.\")\n",
    "\n",
    "    for iteration in range(max_iterations):\n",
    "        c = (a + b) / 2\n",
    "        print(f\"Iteraatio {iteration + 1}: Väli = [{a:.6f}, {b:.6f}], Keskipiste = {c:.6f}, f(c) = {func(c):.6f}\")\n",
    "\n",
    "        if abs(func(c)) < tolerance:  # Tarkista, onko tarkkuus saavutettu\n",
    "            print(f\"\\nTarkkuus saavutettu iteraatiossa {iteration + 1}.\")\n",
    "            return c\n",
    "        \n",
    "        if func(a) * func(c) < 0:\n",
    "            b = c\n",
    "        else:\n",
    "            a = c\n",
    "    \n",
    "    print(\"\\nMaksimi-iterointimäärä saavutettu.\")\n",
    "    return (a + b) / 2\n",
    "\n",
    "# Esimerkki: Määritellään funktio\n",
    "def f(x):\n",
    "    return x - math.exp(-x**2)\n",
    "\n",
    "# Käyttäjän määrittämät parametrit\n",
    "a = 0  # Välin alku\n",
    "b = 1  # Välin loppu\n",
    "max_iterations = 20  # Iteraatioiden enimmäismäärä\n",
    "tolerance = 0.05  # Tarkkuus yhden desimaalin tarkkuudella\n",
    "\n",
    "# Lasketaan nollakohta\n",
    "root = bisection_method(f, a, b, max_iterations, tolerance)\n",
    "print(f\"\\nLöydetty nollakohta: {root:.2f}\")"
   ]
  }
 ],
 "metadata": {
  "kernelspec": {
   "display_name": ".venv",
   "language": "python",
   "name": "python3"
  },
  "language_info": {
   "codemirror_mode": {
    "name": "ipython",
    "version": 3
   },
   "file_extension": ".py",
   "mimetype": "text/x-python",
   "name": "python",
   "nbconvert_exporter": "python",
   "pygments_lexer": "ipython3",
   "version": "3.11.6"
  }
 },
 "nbformat": 4,
 "nbformat_minor": 2
}
