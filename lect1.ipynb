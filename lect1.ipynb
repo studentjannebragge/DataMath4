{
 "cells": [
  {
   "cell_type": "markdown",
   "metadata": {},
   "source": [
    "Tehtävä 1"
   ]
  },
  {
   "cell_type": "code",
   "execution_count": 8,
   "metadata": {},
   "outputs": [],
   "source": [
    "import math\n",
    "import sympy as sp"
   ]
  },
  {
   "cell_type": "code",
   "execution_count": null,
   "metadata": {},
   "outputs": [
    {
     "name": "stdout",
     "output_type": "stream",
     "text": [
      " gradiaani pisteessa: [1.47151776468577, -1.47151776468577], \n",
      "Magnituri (muutosnopeus): 2.08104038009156\n"
     ]
    }
   ],
   "source": [
    "\n",
    "\n",
    "# Määritellään muuttujat ja funktio\n",
    "x, y = sp.symbols('x y')\n",
    "T = x**2 * sp.exp(-y)\n",
    "\n",
    "# Lasketaan gradientti, joka näyttää suurimman kasvunopeuden suunnan\n",
    "grad_T = [sp.diff(T, var) for var in (x, y)]\n",
    "\n",
    "# Piste, jossa gradientti lasketaan\n",
    "point = {x: 2, y: 1}\n",
    "grad_T_at_point = [component.evalf(subs=point) for component in grad_T]\n",
    "\n",
    "# Gradientin suuruus (muutosnopeus suurimman kasvun suunnassa)\n",
    "magnitude = sp.sqrt(sum(component**2 for component in grad_T)).evalf(subs=point)\n",
    "\n",
    "print(f' gradiaani pisteessa: {grad_T_at_point}, \\nMagnituri (muutosnopeus): {magnitude}')\n"
   ]
  },
  {
   "cell_type": "markdown",
   "metadata": {},
   "source": [
    "Tehtävä 2"
   ]
  },
  {
   "cell_type": "code",
   "execution_count": 5,
   "metadata": {},
   "outputs": [
    {
     "name": "stdout",
     "output_type": "stream",
     "text": [
      "Iteraatio 0: x = 1\n",
      "Iteraatio 1: x = 1.6666666666666665\n",
      "Iteraatio 2: x = 1.471111111111111\n",
      "Iteraatio 3: x = 1.4428120982493433\n"
     ]
    }
   ],
   "source": [
    "#a\n",
    "\n",
    "def newton_method(func, func_derivative, initial_guess, iterations):\n",
    "    \"\"\"\n",
    "    Newtonin menetelmän toteutus.\n",
    "\n",
    "    Args:\n",
    "    func: funktio f(x), jonka nollakohta halutaan löytää.\n",
    "    func_derivative: f(x):n derivaatta f'(x).\n",
    "    initial_guess: Alkuarvo iteroinnille.\n",
    "    iterations: Iteraatioiden määrä.\n",
    "\n",
    "    Returns:\n",
    "    Lista iterointien tuloksista.\n",
    "    \"\"\"\n",
    "    x = initial_guess\n",
    "    results = [x]\n",
    "    for i in range(iterations):\n",
    "        x = x - func(x) / func_derivative(x)\n",
    "        results.append(x)\n",
    "    return results\n",
    "\n",
    "# Esimerkki: f(x) = x^3 - 3\n",
    "def f(x):\n",
    "    return x**3 - 3\n",
    "\n",
    "def f_derivative(x):\n",
    "    return 3 * x**2\n",
    "\n",
    "# Parametrit\n",
    "initial_guess = 1  # Alkupiste\n",
    "iterations = 3     # Iteraatioiden määrä\n",
    "\n",
    "# Newtonin menetelmä\n",
    "solutions = newton_method(f, f_derivative, initial_guess, iterations)\n",
    "\n",
    "# Tulosta tulokset\n",
    "for i, solution in enumerate(solutions):\n",
    "    print(f\"Iteraatio {i}: x = {solution}\")\n"
   ]
  },
  {
   "cell_type": "code",
   "execution_count": 6,
   "metadata": {},
   "outputs": [
    {
     "name": "stdout",
     "output_type": "stream",
     "text": [
      "Iteraatio 0: x = 1\n",
      "Iteraatio 1: x = 1.2\n",
      "Iteraatio 2: x = 1.1435758425030438\n",
      "Iteraatio 3: x = 1.1349094622420859\n"
     ]
    }
   ],
   "source": [
    "#b\n",
    "\n",
    "def newton_method(func, func_derivative, initial_guess, iterations):\n",
    "    \"\"\"\n",
    "    Newtonin menetelmän toteutus.\n",
    "\n",
    "    Args:\n",
    "    func: funktio f(x), jonka nollakohta halutaan löytää.\n",
    "    func_derivative: f(x):n derivaatta f'(x).\n",
    "    initial_guess: Alkuarvo iteroinnille.\n",
    "    iterations: Iteraatioiden määrä.\n",
    "\n",
    "    Returns:\n",
    "    Lista iterointien tuloksista.\n",
    "    \"\"\"\n",
    "    x = initial_guess\n",
    "    results = [x]\n",
    "    for i in range(iterations):\n",
    "        x = x - func(x) / func_derivative(x)\n",
    "        results.append(x)\n",
    "    return results\n",
    "\n",
    "# Esimerkki: f(x) = x^6 - x - 1\n",
    "def f(x):\n",
    "    return x**6 - x - 1\n",
    "\n",
    "def f_derivative(x):\n",
    "    return 6 * x**5 - 1 \n",
    "\n",
    "# Parametrit\n",
    "initial_guess = 1  # Alkupiste\n",
    "iterations = 3     # Iteraatioiden määrä\n",
    "\n",
    "# Newtonin menetelmä\n",
    "solutions = newton_method(f, f_derivative, initial_guess, iterations)\n",
    "\n",
    "# Tulosta tulokset\n",
    "for i, solution in enumerate(solutions):\n",
    "    print(f\"Iteraatio {i}: x = {solution}\")"
   ]
  },
  {
   "cell_type": "code",
   "execution_count": 9,
   "metadata": {},
   "outputs": [
    {
     "name": "stdout",
     "output_type": "stream",
     "text": [
      "Iteraatio 0: x = 0.5\n",
      "Iteraatio 1: x = 2.3741246520675254\n",
      "Iteraatio 2: x = 1.4702796165662755\n",
      "Iteraatio 3: x = 1.0594758363508832\n"
     ]
    }
   ],
   "source": [
    "#c\n",
    "\n",
    "def newton_method(func, func_derivative, initial_guess, iterations):\n",
    "    \"\"\"\n",
    "    Newtonin menetelmän toteutus.\n",
    "\n",
    "    Args:\n",
    "    func: funktio f(x), jonka nollakohta halutaan löytää.\n",
    "    func_derivative: f(x):n derivaatta f'(x).\n",
    "    initial_guess: Alkuarvo iteroinnille.\n",
    "    iterations: Iteraatioiden määrä.\n",
    "\n",
    "    Returns:\n",
    "    Lista iterointien tuloksista.\n",
    "    \"\"\"\n",
    "    x = initial_guess\n",
    "    results = [x]\n",
    "    for i in range(iterations):\n",
    "        x = x - func(x) / func_derivative(x)\n",
    "        results.append(x)\n",
    "    return results\n",
    "\n",
    "# Funktio ja sen derivaatta\n",
    "def f(x):\n",
    "    return x**2 - math.sin(x)\n",
    "\n",
    "def f_derivative(x):\n",
    "    return 2 * x - math.cos(x)\n",
    "\n",
    "# Parametrit\n",
    "initial_guess = 0.5  # Alkupiste\n",
    "iterations = 3     # Iteraatioiden määrä\n",
    "\n",
    "# Newtonin menetelmä\n",
    "solutions = newton_method(f, f_derivative, initial_guess, iterations)\n",
    "\n",
    "# Tulosta tulokset\n",
    "for i, solution in enumerate(solutions):\n",
    "    print(f\"Iteraatio {i}: x = {solution}\")\n"
   ]
  },
  {
   "cell_type": "code",
   "execution_count": 14,
   "metadata": {},
   "outputs": [
    {
     "name": "stdout",
     "output_type": "stream",
     "text": [
      "Iteraatio 0: x = 1\n",
      "Iteraatio 1: x = 1.6666666666666665\n",
      "Iteraatio 2: x = 1.471111111111111\n",
      "Iteraatio 3: x = 1.4428120982493433\n",
      "Iteraatio 4: x = 1.4422497895989996\n",
      "Iteraatio 5: x = 1.4422495703074416\n",
      "Iteraatio 6: x = 1.4422495703074083\n",
      "Iteraatio 7: x = 1.4422495703074083\n",
      "Iteraatio 8: x = 1.4422495703074083\n",
      "Iteraatio 9: x = 1.4422495703074083\n",
      "Iteraatio 10: x = 1.4422495703074083\n"
     ]
    }
   ],
   "source": [
    "# helpompi koodi\n",
    "\n",
    "import sympy as sp\n",
    "\n",
    "def newton_method(func_str, initial_guess, iterations):\n",
    "    \"\"\"\n",
    "    Newtonin menetelmä, jossa annetaan vain funktio, alkupiste ja iteraatioiden määrä.\n",
    "\n",
    "    Args:\n",
    "    func_str: Funktion lauseke merkkijonona, esim. \"x**2 - sin(x)\".\n",
    "    initial_guess: Alkupiste iteroinnille.\n",
    "    iterations: Iteraatioiden määrä.\n",
    "\n",
    "    Returns:\n",
    "    Lista iterointien tuloksista.\n",
    "    \"\"\"\n",
    "    # Määritetään muuttuja ja funktio\n",
    "    x = sp.symbols('x')\n",
    "    func_expr = sp.sympify(func_str, locals={\"sin\": sp.sin, \"cos\": sp.cos, \"tan\": sp.tan})\n",
    "    \n",
    "    # Lasketaan derivaatta\n",
    "    func_derivative = sp.diff(func_expr, x)\n",
    "    \n",
    "    # Muunnetaan symboliset funktiot numeeriseen muotoon\n",
    "    f = sp.lambdify(x, func_expr)\n",
    "    f_prime = sp.lambdify(x, func_derivative)\n",
    "\n",
    "    # Newtonin menetelmä\n",
    "    x_value = initial_guess\n",
    "    results = [x_value]\n",
    "    for _ in range(iterations):\n",
    "        x_value = x_value - f(x_value) / f_prime(x_value)\n",
    "        results.append(x_value)\n",
    "    return results\n",
    "\n",
    "# Parametrit\n",
    "function = \"x**3 - 3\"  # Anna funktio merkkijonona\n",
    "initial_guess = 1           # Alkupiste\n",
    "iterations = 10                # Iteraatioiden määrä\n",
    "\n",
    "# Newtonin menetelmä\n",
    "solutions = newton_method(function, initial_guess, iterations)\n",
    "\n",
    "# Tulosta tulokset\n",
    "for i, solution in enumerate(solutions):\n",
    "    print(f\"Iteraatio {i}: x = {solution}\")\n",
    "\n"
   ]
  }
 ],
 "metadata": {
  "kernelspec": {
   "display_name": ".venv",
   "language": "python",
   "name": "python3"
  },
  "language_info": {
   "codemirror_mode": {
    "name": "ipython",
    "version": 3
   },
   "file_extension": ".py",
   "mimetype": "text/x-python",
   "name": "python",
   "nbconvert_exporter": "python",
   "pygments_lexer": "ipython3",
   "version": "3.11.6"
  }
 },
 "nbformat": 4,
 "nbformat_minor": 2
}
